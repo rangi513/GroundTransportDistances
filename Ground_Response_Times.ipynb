{
 "cells": [
  {
   "cell_type": "markdown",
   "metadata": {},
   "source": [
    "## Ground Reponse Times"
   ]
  },
  {
   "cell_type": "code",
   "execution_count": null,
   "metadata": {},
   "outputs": [],
   "source": [
    "import numpy as np\n",
    "import pandas as pd\n",
    "import csv"
   ]
  },
  {
   "cell_type": "code",
   "execution_count": null,
   "metadata": {},
   "outputs": [],
   "source": [
    "import googlemaps\n",
    "from googlemaps import convert\n",
    "from googlemaps.directions import directions\n",
    "from datetime import datetime\n",
    "\n",
    "gmaps = googlemaps.Client(key='***')\n",
    "\n",
    "## Read in csv\n",
    "address_list = pd.read_csv('~/Downloads/Addresses.csv')"
   ]
  },
  {
   "cell_type": "code",
   "execution_count": null,
   "metadata": {},
   "outputs": [],
   "source": [
    "def get_directions(identifier, origin, destination):\n",
    "    directions_result = directions(client = gmaps, \n",
    "                      origin = origin, \n",
    "                      destination = destination,\n",
    "                      mode=\"driving\", alternatives=False)\n",
    "\n",
    "    ## Parse out from JSON\n",
    "    distance = directions_result[0]['legs'][0]['distance']['value']/1609.34 ## Miles\n",
    "    duration = directions_result[0]['legs'][0]['duration']['value']/60 ## Minutes\n",
    "    start_address = directions_result[0]['legs'][0]['start_address']\n",
    "    end_address = directions_result[0]['legs'][0]['end_address']\n",
    "    start_location_lat = directions_result[0]['legs'][0]['start_location']['lat']\n",
    "    start_location_long = directions_result[0]['legs'][0]['start_location']['lng']\n",
    "    end_location_lat = directions_result[0]['legs'][0]['end_location']['lat']\n",
    "    end_location_long = directions_result[0]['legs'][0]['end_location']['lng']\n",
    "    \n",
    "    ## Create a dataframe of the values\n",
    "    directions_DF = pd.DataFrame(data = {'id': identifier,\n",
    "                                   'origin': origin,\n",
    "                                   'destination': destination,\n",
    "                                   'distance': distance,\n",
    "                                   'duration': duration,\n",
    "                                   'start_address': start_address,\n",
    "                                   'end_address': end_address,\n",
    "                                   'start_location_lat': start_location_lat,\n",
    "                                   'start_location_long': start_location_long,\n",
    "                                   'end_location_lat': end_location_lat,\n",
    "                                   'end_location_long': end_location_long},\n",
    "                           columns = ['id','origin','destination','distance','duration','start_address','end_address','start_location_lat',\n",
    "                                      'start_location_long','end_location_lat','end_location_long'], index=[identifier])\n",
    "    return(directions_DF)"
   ]
  },
  {
   "cell_type": "code",
   "execution_count": null,
   "metadata": {},
   "outputs": [],
   "source": [
    "directions_full = pd.DataFrame()"
   ]
  },
  {
   "cell_type": "code",
   "execution_count": null,
   "metadata": {},
   "outputs": [],
   "source": [
    "for i in range(len(address_list)):\n",
    "        print(address_list.origin[i])\n",
    "        try:\n",
    "            directions_df = get_directions(identifier = address_list.unique_id[i],\n",
    "                                           origin = address_list.origin[i],\n",
    "                                           destination = address_list.destination[i])\n",
    "            directions_full = directions_full.append(pd.DataFrame(data = directions_df))\n",
    "        except:\n",
    "            print(\"This address could not be found\")\n",
    "\n",
    "directions_full = directions_full.reset_index(drop=True)"
   ]
  },
  {
   "cell_type": "code",
   "execution_count": null,
   "metadata": {},
   "outputs": [],
   "source": [
    "directions_full.head()"
   ]
  },
  {
   "cell_type": "code",
   "execution_count": null,
   "metadata": {},
   "outputs": [],
   "source": [
    "directions_full.to_csv(path_or_buf = \"~/Downloads/Google_Address_Distances.csv\")"
   ]
  },
  {
   "cell_type": "code",
   "execution_count": null,
   "metadata": {},
   "outputs": [],
   "source": []
  }
 ],
 "metadata": {
  "kernelspec": {
   "display_name": "Python 3",
   "language": "python",
   "name": "python3"
  },
  "language_info": {
   "codemirror_mode": {
    "name": "ipython",
    "version": 3
   },
   "file_extension": ".py",
   "mimetype": "text/x-python",
   "name": "python",
   "nbconvert_exporter": "python",
   "pygments_lexer": "ipython3",
   "version": "3.6.1"
  }
 },
 "nbformat": 4,
 "nbformat_minor": 2
}
